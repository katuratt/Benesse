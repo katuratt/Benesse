{
 "cells": [
  {
   "cell_type": "markdown",
   "metadata": {},
   "source": [
    "会社のデータを作成する"
   ]
  },
  {
   "cell_type": "code",
   "execution_count": 1,
   "metadata": {},
   "outputs": [],
   "source": [
    "import csv\n",
    "\n",
    "\n",
    "\n",
    "with open('students.csv', 'w', newline='',encoding='utf-8') as student_file:\n",
    "    writer = csv.writer(student_file)\n",
    "    writer.writerow([\"RollNo\", \"Name\", \"Subject\"])\n",
    "    writer.writerow([1, \"ABC\", \"Economics\"])\n",
    "    writer.writerow([2, \"TUV\", \"Arts\"])\n",
    "    writer.writerow([3, \"XYZ\", \"Python\"])"
   ]
  },
  {
   "cell_type": "code",
   "execution_count": null,
   "metadata": {},
   "outputs": [],
   "source": []
  }
 ],
 "metadata": {
  "kernelspec": {
   "display_name": "Python 3 (ipykernel)",
   "language": "python",
   "name": "python3"
  },
  "language_info": {
   "codemirror_mode": {
    "name": "ipython",
    "version": 3
   },
   "file_extension": ".py",
   "mimetype": "text/x-python",
   "name": "python",
   "nbconvert_exporter": "python",
   "pygments_lexer": "ipython3",
   "version": "3.8.13"
  }
 },
 "nbformat": 4,
 "nbformat_minor": 2
}
