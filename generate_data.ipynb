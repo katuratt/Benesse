{
 "cells": [
  {
   "cell_type": "markdown",
   "metadata": {},
   "source": [
    "会社のデータを作成する"
   ]
  },
  {
   "cell_type": "code",
   "execution_count": 3,
   "metadata": {},
   "outputs": [],
   "source": [
    "import csv\n",
    "\n",
    "df = [['Japan', 'a', 1952, 50.2, 8425333.2, 779.44531],['Pa', 'ab', 1952, 70, 8425333, 500],['Pi', 'av', 1952, 60, 8425333, 300],['Pi', 'af', 1952, 60, 8425333, 300],['Pi', 'ae', 1952, 60, 8425333, 300]]\n",
    "\n",
    "\n",
    "with open('company_data.csv', 'w', newline='',encoding='utf-8') as student_file:\n",
    "    writer = csv.writer(student_file)\n",
    "    writer.writerow(['industry','company_name','x','y','employee_number','sales'])\n",
    "    for row in df:\n",
    "        writer.writerow(row)"
   ]
  },
  {
   "cell_type": "code",
   "execution_count": 3,
   "metadata": {},
   "outputs": [],
   "source": [
    "import random, string\n",
    "#ランダムな文字列の作成\n",
    "def random_lowercase(n: int) -> str:\n",
    "    random_list = [random.choice(string.ascii_lowercase) for n in range(n)]\n",
    "    return \"\".join(random_list)\n"
   ]
  },
  {
   "cell_type": "code",
   "execution_count": 4,
   "metadata": {},
   "outputs": [],
   "source": [
    "import csv\n",
    "import random, string\n",
    "#会社数を指定\n",
    "company_num = 100\n",
    "#産業\n",
    "industry_list = ['Education', 'Agricultural','Mining','Manufacturing','Construction','Finance']\n",
    "\n",
    "company_df = []\n",
    "for i in range(company_num):\n",
    "    company_df_element = []\n",
    "    company_df_element.append(random.choice(industry_list))#産業指定\n",
    "    company_df_element.append(random_lowercase(random.randint(3,7)))#会社名\n",
    "    company_df_element.append(round(random.uniform(0, 1000),2))#x座標\n",
    "    company_df_element.append(round(random.uniform(0, 1000),2))#y座標\n",
    "    company_df_element.append(random.randint(1,10000))#従業員数\n",
    "    company_df_element.append(round(random.uniform(0, 1000000),2))#売上\n",
    "    company_df_element.append(1)\n",
    "    company_df.append(company_df_element)\n",
    "\n",
    "\n",
    "with open('company_data.csv', 'w', newline='',encoding='utf-8') as company_file:\n",
    "    writer = csv.writer(company_file)\n",
    "    writer.writerow(['industry','company_name','x','y','employee_number','sales','recommendation'])\n",
    "    for row in company_df:\n",
    "        writer.writerow(row)"
   ]
  },
  {
   "cell_type": "code",
   "execution_count": null,
   "metadata": {},
   "outputs": [],
   "source": []
  }
 ],
 "metadata": {
  "kernelspec": {
   "display_name": "Python 3 (ipykernel)",
   "language": "python",
   "name": "python3"
  },
  "language_info": {
   "codemirror_mode": {
    "name": "ipython",
    "version": 3
   },
   "file_extension": ".py",
   "mimetype": "text/x-python",
   "name": "python",
   "nbconvert_exporter": "python",
   "pygments_lexer": "ipython3",
   "version": "3.8.13"
  }
 },
 "nbformat": 4,
 "nbformat_minor": 2
}
