{
 "cells": [
  {
   "cell_type": "markdown",
   "metadata": {},
   "source": [
    "企業のデータを作成する"
   ]
  },
  {
   "cell_type": "code",
   "execution_count": 1,
   "metadata": {},
   "outputs": [],
   "source": [
    "import random, string\n",
    "#ランダムな文字列の作成\n",
    "def random_lowercase(n: int) -> str:\n",
    "    random_list = [random.choice(string.ascii_lowercase) for n in range(n)]\n",
    "    return \"\".join(random_list)\n"
   ]
  },
  {
   "cell_type": "code",
   "execution_count": 2,
   "metadata": {},
   "outputs": [],
   "source": [
    "import csv\n",
    "import random, string\n",
    "#企業数を指定\n",
    "company_num = 50\n",
    "#業界\n",
    "# industry_list = ['Education', 'Agricultural','Mining','Manufacturing','Construction','Finance']\n",
    "industry_list = ['Education', 'Construction', 'Mining','Manufacturing','Finance', 'IT']\n",
    "\n",
    "company_df = []\n",
    "for i in range(company_num):\n",
    "    company_df_element = []\n",
    "    industry = random.choice(industry_list)\n",
    "    company_df_element.append(industry)#業界指定\n",
    "    company_df_element.append(random_lowercase(random.randint(3,6)))#企業名\n",
    "    if industry == 'Construction':\n",
    "        company_df_element.append(round(random.uniform(0, 300),2))#x座標\n",
    "        company_df_element.append(round(random.uniform(0, 700),2))#y座標\n",
    "    elif industry == 'Mining':\n",
    "        company_df_element.append(round(random.uniform(0, 200),2))#x座標\n",
    "        company_df_element.append(round(random.uniform(200, 1000),2))#y座標\n",
    "    elif industry == 'Manufacturing':\n",
    "        company_df_element.append(round(random.uniform(700, 1000),2))#x座標\n",
    "        company_df_element.append(round(random.uniform(0, 700),2))#y座標\n",
    "    elif industry == 'Finance':\n",
    "        company_df_element.append(round(random.uniform(200, 800),2))#x座標\n",
    "        company_df_element.append(round(random.uniform(750, 1000),2))#y座標\n",
    "    elif industry == 'IT':\n",
    "        company_df_element.append(round(random.uniform(600, 1000),2))#x座標\n",
    "        company_df_element.append(round(random.uniform(700, 1000),2))#y座標\n",
    "    else:\n",
    "        company_df_element.append(round(random.uniform(0, 1000),2))#x座標\n",
    "        company_df_element.append(round(random.uniform(0, 1000),2))#y座標\n",
    "\n",
    "    company_df_element.append(random.randint(1,10000))#従業員数\n",
    "    company_df_element.append(round(random.uniform(100, 1000000),2))#売上\n",
    "    company_df_element.append(1)\n",
    "    company_df.append(company_df_element)\n",
    "\n",
    "\n",
    "with open('company_data.csv', 'w', newline='',encoding='utf-8') as company_file:\n",
    "    writer = csv.writer(company_file)\n",
    "    writer.writerow(['industry','company_name','x','y','employee_number','sales','recommendation'])\n",
    "    for row in company_df:\n",
    "        writer.writerow(row)"
   ]
  },
  {
   "cell_type": "code",
   "execution_count": null,
   "metadata": {},
   "outputs": [],
   "source": []
  }
 ],
 "metadata": {
  "kernelspec": {
   "display_name": "Python 3 (ipykernel)",
   "language": "python",
   "name": "python3"
  },
  "language_info": {
   "codemirror_mode": {
    "name": "ipython",
    "version": 3
   },
   "file_extension": ".py",
   "mimetype": "text/x-python",
   "name": "python",
   "nbconvert_exporter": "python",
   "pygments_lexer": "ipython3",
   "version": "3.8.13"
  }
 },
 "nbformat": 4,
 "nbformat_minor": 2
}
